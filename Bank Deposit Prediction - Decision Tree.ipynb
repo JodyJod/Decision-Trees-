{
 "cells": [
  {
   "cell_type": "markdown",
   "id": "482f0dca",
   "metadata": {},
   "source": [
    "# Bank Deposit Prediction"
   ]
  },
  {
   "cell_type": "markdown",
   "id": "fb6fc880",
   "metadata": {},
   "source": [
    "Importing libraries"
   ]
  },
  {
   "cell_type": "code",
   "execution_count": 75,
   "id": "3bed16a4",
   "metadata": {},
   "outputs": [],
   "source": [
    "import pandas as pd\n",
    "from sklearn.tree import DecisionTreeClassifier \n",
    "from sklearn.metrics import accuracy_score, precision_score, recall_score\n",
    "from sklearn.metrics import classification_report\n",
    "from sklearn.model_selection import GridSearchCV"
   ]
  },
  {
   "cell_type": "markdown",
   "id": "31ae114e",
   "metadata": {},
   "source": [
    "Importing Data:\n",
    "1. In this case the Training and Testing Data were already in seperated files\n",
    "<br>\n",
    "2. There was no missing data\n",
    "<br>\n",
    "3. Dummy columns were created\n"
   ]
  },
  {
   "cell_type": "code",
   "execution_count": 76,
   "id": "3636523f",
   "metadata": {},
   "outputs": [
    {
     "name": "stdout",
     "output_type": "stream",
     "text": [
      "<class 'pandas.core.frame.DataFrame'>\n",
      "RangeIndex: 4521 entries, 0 to 4520\n",
      "Data columns (total 30 columns):\n",
      " #   Column               Non-Null Count  Dtype\n",
      "---  ------               --------------  -----\n",
      " 0   age                  4521 non-null   int64\n",
      " 1   balance              4521 non-null   int64\n",
      " 2   job_admin.           4521 non-null   int32\n",
      " 3   job_blue-collar      4521 non-null   int32\n",
      " 4   job_entrepreneur     4521 non-null   int32\n",
      " 5   job_housemaid        4521 non-null   int32\n",
      " 6   job_management       4521 non-null   int32\n",
      " 7   job_retired          4521 non-null   int32\n",
      " 8   job_self-employed    4521 non-null   int32\n",
      " 9   job_services         4521 non-null   int32\n",
      " 10  job_student          4521 non-null   int32\n",
      " 11  job_technician       4521 non-null   int32\n",
      " 12  job_unemployed       4521 non-null   int32\n",
      " 13  job_unknown          4521 non-null   int32\n",
      " 14  marital_divorced     4521 non-null   int32\n",
      " 15  marital_married      4521 non-null   int32\n",
      " 16  marital_single       4521 non-null   int32\n",
      " 17  education_primary    4521 non-null   int32\n",
      " 18  education_secondary  4521 non-null   int32\n",
      " 19  education_tertiary   4521 non-null   int32\n",
      " 20  education_unknown    4521 non-null   int32\n",
      " 21  default_no           4521 non-null   int32\n",
      " 22  default_yes          4521 non-null   int32\n",
      " 23  poutcome_failure     4521 non-null   int32\n",
      " 24  poutcome_other       4521 non-null   int32\n",
      " 25  poutcome_success     4521 non-null   int32\n",
      " 26  poutcome_unknown     4521 non-null   int32\n",
      " 27  loan_no              4521 non-null   int32\n",
      " 28  loan_yes             4521 non-null   int32\n",
      " 29  y_yes                4521 non-null   int32\n",
      "dtypes: int32(28), int64(2)\n",
      "memory usage: 565.3 KB\n"
     ]
    }
   ],
   "source": [
    "BankDepositsTrain = pd.read_csv('C:/Users/Jody/Documents/data sets/Bank Term Deposit Prediction/train.csv')\n",
    "BankDepositsTrain1 = pd.get_dummies(BankDepositsTrain, columns = ['job','marital','education', 'default', 'poutcome','loan','y'],\n",
    "                                   dtype = int)\n",
    "\n",
    "\n",
    "BankDepositsTest = pd.read_csv('C:/Users/Jody/Documents/data sets/Bank Term Deposit Prediction/test.csv')\n",
    "BankDepositsTest1 = pd.get_dummies(BankDepositsTest, columns = ['job','marital','education', 'default', 'poutcome','loan','y'],\n",
    "                                   dtype = int)\n",
    "\n",
    "\n",
    "\n",
    "train = BankDepositsTrain1.drop(['housing','contact','day','month','duration','campaign','pdays','previous','y_no'],axis = 1)\n",
    "\n",
    "test = BankDepositsTest1.drop(['housing','contact','day','month','duration','campaign','pdays','previous','y_no'],axis = 1)\n",
    "test.info()"
   ]
  },
  {
   "cell_type": "markdown",
   "id": "42edee68",
   "metadata": {},
   "source": [
    "There was a very large class imbalance where class 1 only made up 12% of the dataset.\n",
    "<br>\n",
    "Over sampling was utilized to mitigate this"
   ]
  },
  {
   "cell_type": "code",
   "execution_count": 77,
   "id": "2362febe",
   "metadata": {},
   "outputs": [
    {
     "name": "stdout",
     "output_type": "stream",
     "text": [
      "(39922, 30) (5289, 30)\n"
     ]
    }
   ],
   "source": [
    "class_0 = train[train['y_yes'] == 0]\n",
    "class_1 = train[train['y_yes'] == 1]\n",
    "\n",
    "print(class_0.shape, class_1.shape)"
   ]
  },
  {
   "cell_type": "code",
   "execution_count": 78,
   "id": "44b121d7",
   "metadata": {},
   "outputs": [],
   "source": [
    "Class0regularsample = class_0\n",
    "Class1regularsample = class_1.sample(39922, replace = True)\n",
    "\n",
    "trainresampled = pd.concat([Class0regularsample,Class1regularsample], axis = 0)"
   ]
  },
  {
   "cell_type": "markdown",
   "id": "a071dc22",
   "metadata": {},
   "source": [
    "X and Y were defined. Again the train and test dataset were already provided so there was no use\n",
    "<br>\n",
    "for the train test split function"
   ]
  },
  {
   "cell_type": "code",
   "execution_count": 79,
   "id": "c5eac9bd",
   "metadata": {},
   "outputs": [],
   "source": [
    "X_train = trainresampled.drop(['y_yes'],axis = 1)\n",
    "Y_train = trainresampled['y_yes']\n",
    "X_test = test.drop(['y_yes'],axis = 1)\n",
    "Y_test = test['y_yes']"
   ]
  },
  {
   "cell_type": "markdown",
   "id": "7a9a3e06",
   "metadata": {},
   "source": [
    "GridsearchCV was utlized for optimal model tuning"
   ]
  },
  {
   "cell_type": "code",
   "execution_count": 80,
   "id": "edeea74e",
   "metadata": {},
   "outputs": [
    {
     "name": "stdout",
     "output_type": "stream",
     "text": [
      "Best Parameters: {'criterion': 'gini', 'max_depth': None, 'min_samples_leaf': 1, 'min_samples_split': 2}\n"
     ]
    }
   ],
   "source": [
    "dt_classifier = DecisionTreeClassifier()\n",
    "\n",
    "param_grid = {\n",
    "    'criterion': ['entropy', 'gini'],\n",
    "    'max_depth': [None, 5, 10, 15, 20, 25], \n",
    "    'min_samples_split': [2, 5, 10],\n",
    "    'min_samples_leaf': [1, 2, 4,6],\n",
    "}\n",
    "\n",
    "grid_search = GridSearchCV(dt_classifier, param_grid, cv=5, scoring='accuracy')\n",
    "\n",
    "grid_search.fit(X_train, Y_train)\n",
    "\n",
    "\n",
    "best_params = grid_search.best_params_\n",
    "best_estimator = grid_search.best_estimator_\n",
    "\n",
    "print(\"Best Parameters:\", best_params)"
   ]
  },
  {
   "cell_type": "code",
   "execution_count": null,
   "id": "74ce2616",
   "metadata": {},
   "outputs": [],
   "source": [
    "y_pred = best_estimator.predict(X_test)"
   ]
  },
  {
   "cell_type": "markdown",
   "id": "7d614838",
   "metadata": {},
   "source": [
    "Classification Report"
   ]
  },
  {
   "cell_type": "code",
   "execution_count": 83,
   "id": "c6366013",
   "metadata": {},
   "outputs": [
    {
     "name": "stdout",
     "output_type": "stream",
     "text": [
      "              precision    recall  f1-score   support\n",
      "\n",
      "           0       1.00      0.99      0.99      4000\n",
      "           1       0.93      1.00      0.96       521\n",
      "\n",
      "    accuracy                           0.99      4521\n",
      "   macro avg       0.96      0.99      0.98      4521\n",
      "weighted avg       0.99      0.99      0.99      4521\n",
      "\n"
     ]
    }
   ],
   "source": [
    "cr = classification_report(Y_test, y_pred)\n",
    "print(cr)"
   ]
  },
  {
   "cell_type": "code",
   "execution_count": null,
   "id": "1a2791ca",
   "metadata": {},
   "outputs": [],
   "source": []
  },
  {
   "cell_type": "code",
   "execution_count": null,
   "id": "dbf2d6ea",
   "metadata": {},
   "outputs": [],
   "source": []
  }
 ],
 "metadata": {
  "kernelspec": {
   "display_name": "Python 3 (ipykernel)",
   "language": "python",
   "name": "python3"
  },
  "language_info": {
   "codemirror_mode": {
    "name": "ipython",
    "version": 3
   },
   "file_extension": ".py",
   "mimetype": "text/x-python",
   "name": "python",
   "nbconvert_exporter": "python",
   "pygments_lexer": "ipython3",
   "version": "3.11.5"
  }
 },
 "nbformat": 4,
 "nbformat_minor": 5
}
